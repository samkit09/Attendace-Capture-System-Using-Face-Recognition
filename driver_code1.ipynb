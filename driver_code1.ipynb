{
 "cells": [
  {
   "cell_type": "code",
   "execution_count": null,
   "metadata": {},
   "outputs": [
    {
     "name": "stderr",
     "output_type": "stream",
     "text": [
      "Using TensorFlow backend.\n"
     ]
    },
    {
     "name": "stdout",
     "output_type": "stream",
     "text": [
      ">loaded 20 examples for class: Aryan Verma\n",
      ">loaded 15 examples for class: baccha\n",
      ">loaded 14 examples for class: carryminati\n",
      ">loaded 20 examples for class: Samkit Saraf\n",
      ">loaded 20 examples for class: Varun Kumar Nyalapelli\n",
      ">loaded 20 examples for class: Varun_Vasani\n",
      "(109, 160, 160, 3) (109,)\n",
      ">loaded 5 examples for class: Aryan Verma\n",
      ">loaded 6 examples for class: baccha\n",
      ">loaded 6 examples for class: carryminati\n"
     ]
    },
    {
     "name": "stderr",
     "output_type": "stream",
     "text": [
      "Exception ignored in: <function ScopedTFFunction.__del__ at 0x000001B8AF6CBEA0>\n",
      "Traceback (most recent call last):\n",
      "  File \"C:\\Users\\samkit\\Anaconda3\\envs\\tensorflow\\lib\\site-packages\\tensorflow\\python\\framework\\c_api_util.py\", line 95, in __del__\n",
      "    if self.func is not None:\n",
      "KeyboardInterrupt\n"
     ]
    },
    {
     "name": "stdout",
     "output_type": "stream",
     "text": [
      ">loaded 5 examples for class: Samkit Saraf\n"
     ]
    }
   ],
   "source": [
    "import ipynb.fs.full.dataset_to_array as dta\n",
    "import ipynb.fs.full.embedding as em\n",
    "import ipynb.fs.full.face_detector as fd\n",
    "import ipynb.fs.full.create_faces_from_video as cffv"
   ]
  },
  {
   "cell_type": "code",
   "execution_count": null,
   "metadata": {},
   "outputs": [],
   "source": [
    "# dataset_to_array\n",
    "trainX, trainy = dta.load_dataset('dataset/train/')\n",
    "print(trainX.shape, trainy.shape)\n",
    "testX, testy = dta.load_dataset('dataset/val/')\n",
    "savez_compressed('faces-dataset.npz', trainX, trainy, testX, testy)"
   ]
  },
  {
   "cell_type": "code",
   "execution_count": null,
   "metadata": {},
   "outputs": [],
   "source": [
    "# Embeddings\n",
    "\n",
    "# load the face dataset\n",
    "data = load('faces-dataset.npz')\n",
    "trainX, trainy, testX, testy = data['arr_0'], data['arr_1'], data['arr_2'], data['arr_3']\n",
    "print('Loaded: ', trainX.shape, trainy.shape, testX.shape, testy.shape)\n",
    "\n",
    "# load the facenet model\n",
    "model = load_model('facenet_keras.h5')\n",
    "print('Loaded Model')\n",
    "\n",
    "# convert each face in the train set to an embedding\n",
    "newTrainX = list()\n",
    "for face_pixels in trainX:\n",
    "    embedding = em.get_embedding(model, face_pixels)\n",
    "    newTrainX.append(embedding)\n",
    "newTrainX = asarray(newTrainX)\n",
    "# print(newTrainX.shape)\n",
    "\n",
    "# convert each face in the test set to an embedding\n",
    "newTestX = list()\n",
    "for face_pixels in testX:\n",
    "    embedding = em.get_embedding(model, face_pixels)\n",
    "    newTestX.append(embedding)\n",
    "newTestX = asarray(newTestX)\n",
    "# print(newTestX.shape)\n",
    "\n",
    "# save arrays to one file in compressed format\n",
    "savez_compressed('faces-embeddings.npz', newTrainX, trainy, newTestX, testy)"
   ]
  },
  {
   "cell_type": "code",
   "execution_count": null,
   "metadata": {},
   "outputs": [],
   "source": [
    "# classification\n",
    "\n",
    "# # load embedding dataset\n",
    "# data = load('faces-embeddings.npz')\n",
    "# trainX, trainy, testX, testy = data['arr_0'], data['arr_1'], data['arr_2'], data['arr_3']\n",
    "# # print('Dataset: train=%d, test=%d' % (trainX.shape[0], testX.shape[0]))\n",
    "\n",
    "# # normalize input vectors\n",
    "# in_encoder = Normalizer(norm='l2')\n",
    "# trainX = in_encoder.transform(trainX)\n",
    "# testX = in_encoder.transform(testX)\n",
    "\n",
    "# # label encode targets\n",
    "# out_encoder = LabelEncoder()\n",
    "# out_encoder.fit(trainy)\n",
    "# trainy = out_encoder.transform(trainy)\n",
    "# testy = out_encoder.transform(testy)\n",
    "\n",
    "import ipynb.fs.full.classification as classif\n"
   ]
  },
  {
   "cell_type": "code",
   "execution_count": null,
   "metadata": {},
   "outputs": [],
   "source": []
  }
 ],
 "metadata": {
  "kernelspec": {
   "display_name": "Python 3",
   "language": "python",
   "name": "python3"
  },
  "language_info": {
   "codemirror_mode": {
    "name": "ipython",
    "version": 3
   },
   "file_extension": ".py",
   "mimetype": "text/x-python",
   "name": "python",
   "nbconvert_exporter": "python",
   "pygments_lexer": "ipython3",
   "version": "3.7.1"
  }
 },
 "nbformat": 4,
 "nbformat_minor": 4
}
