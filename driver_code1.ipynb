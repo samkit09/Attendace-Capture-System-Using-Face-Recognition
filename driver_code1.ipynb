{
 "cells": [
  {
   "cell_type": "code",
   "execution_count": 1,
   "metadata": {},
   "outputs": [
    {
     "name": "stderr",
     "output_type": "stream",
     "text": [
      "Using TensorFlow backend.\n"
     ]
    },
    {
     "name": "stdout",
     "output_type": "stream",
     "text": [
      "dta imported!\n",
      "em imported!\n"
     ]
    }
   ],
   "source": [
    "import ipynb.fs.full.create_faces_from_video as cffv\n",
    "print('fd imported!')\n",
    "import ipynb.fs.full.dataset_to_array as dta\n",
    "print('dta imported!')\n",
    "import ipynb.fs.full.embedding as em\n",
    "print('em imported!')"
   ]
  },
  {
   "cell_type": "code",
   "execution_count": 2,
   "metadata": {},
   "outputs": [
    {
     "name": "stdout",
     "output_type": "stream",
     "text": [
      ">loaded 14 examples for class: Aditya_Shankar_B247\n",
      ">loaded 20 examples for class: Aryan_Verma_B255\n",
      ">loaded 20 examples for class: Samkit_Saraf_B241\n",
      ">loaded 20 examples for class: Shashwat_Tare_B252\n",
      ">loaded 20 examples for class: Varun_Kumar_B245\n",
      ">loaded 20 examples for class: Varun_Vasani_B250\n",
      "(114, 160, 160, 3) (114,)\n",
      ">loaded 4 examples for class: Aditya_Shankar_B247\n",
      ">loaded 5 examples for class: Aryan_Verma_B255\n",
      ">loaded 5 examples for class: Samkit_Saraf_B241\n",
      ">loaded 5 examples for class: Shashwat_Tare_B252\n",
      ">loaded 5 examples for class: Varun_Kumar_B245\n",
      ">loaded 5 examples for class: Varun_Vasani_B250\n"
     ]
    }
   ],
   "source": [
    "# dataset_to_array\n",
    "trainX, trainy = dta.load_dataset('dataset/train/')\n",
    "print(trainX.shape, trainy.shape)\n",
    "testX, testy = dta.load_dataset('dataset/val/')\n",
    "dta.savez_compressed('faces-dataset.npz', trainX, trainy, testX, testy)"
   ]
  },
  {
   "cell_type": "code",
   "execution_count": 3,
   "metadata": {},
   "outputs": [
    {
     "name": "stdout",
     "output_type": "stream",
     "text": [
      "Loaded:  (114, 160, 160, 3) (114,) (29, 160, 160, 3) (29,)\n"
     ]
    },
    {
     "name": "stderr",
     "output_type": "stream",
     "text": [
      "C:\\Users\\samkit\\Anaconda3\\envs\\tensorflow\\lib\\site-packages\\keras\\engine\\saving.py:341: UserWarning: No training configuration found in save file: the model was *not* compiled. Compile it manually.\n",
      "  warnings.warn('No training configuration found in save file: '\n"
     ]
    },
    {
     "name": "stdout",
     "output_type": "stream",
     "text": [
      "Loaded Model\n"
     ]
    }
   ],
   "source": [
    "# Embeddings\n",
    "\n",
    "# load the face dataset\n",
    "data = em.load('faces-dataset.npz')\n",
    "trainX, trainy, testX, testy = data['arr_0'], data['arr_1'], data['arr_2'], data['arr_3']\n",
    "print('Loaded: ', trainX.shape, trainy.shape, testX.shape, testy.shape)\n",
    "\n",
    "# load the facenet model\n",
    "model = em.load_model('facenet_keras.h5')\n",
    "print('Loaded Model')\n",
    "\n",
    "# convert each face in the train set to an embedding\n",
    "newTrainX = list()\n",
    "for face_pixels in trainX:\n",
    "    embedding = em.get_embedding(model, face_pixels)\n",
    "    newTrainX.append(embedding)\n",
    "newTrainX = em.asarray(newTrainX)\n",
    "# print(newTrainX.shape)\n",
    "\n",
    "# convert each face in the test set to an embedding\n",
    "newTestX = list()\n",
    "for face_pixels in testX:\n",
    "    embedding = em.get_embedding(model, face_pixels)\n",
    "    newTestX.append(embedding)\n",
    "newTestX = em.asarray(newTestX)\n",
    "# print(newTestX.shape)\n",
    "\n",
    "# save arrays to one file in compressed format\n",
    "em.savez_compressed('faces-embeddings.npz', newTrainX, trainy, newTestX, testy)"
   ]
  },
  {
   "cell_type": "code",
   "execution_count": 4,
   "metadata": {},
   "outputs": [
    {
     "name": "stdout",
     "output_type": "stream",
     "text": [
      "Dataset: train=114, test=29\n",
      "Accuracy: train=100.000, test=100.000\n"
     ]
    }
   ],
   "source": [
    "import ipynb.fs.full.classification as classif\n"
   ]
  },
  {
   "cell_type": "code",
   "execution_count": null,
   "metadata": {},
   "outputs": [],
   "source": []
  }
 ],
 "metadata": {
  "kernelspec": {
   "display_name": "Python 3",
   "language": "python",
   "name": "python3"
  },
  "language_info": {
   "codemirror_mode": {
    "name": "ipython",
    "version": 3
   },
   "file_extension": ".py",
   "mimetype": "text/x-python",
   "name": "python",
   "nbconvert_exporter": "python",
   "pygments_lexer": "ipython3",
   "version": "3.7.1"
  }
 },
 "nbformat": 4,
 "nbformat_minor": 4
}
