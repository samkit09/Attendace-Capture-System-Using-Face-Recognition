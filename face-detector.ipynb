{
 "cells": [
  {
   "cell_type": "code",
   "execution_count": 1,
   "metadata": {},
   "outputs": [
    {
     "name": "stderr",
     "output_type": "stream",
     "text": [
      "Using TensorFlow backend.\n"
     ]
    }
   ],
   "source": [
    "# extract and plot each detected face in a photograph\n",
    "from matplotlib import pyplot\n",
    "from matplotlib.patches import Rectangle\n",
    "from matplotlib.patches import Circle\n",
    "from mtcnn.mtcnn import MTCNN\n",
    "import cv2\n",
    "import os"
   ]
  },
  {
   "cell_type": "code",
   "execution_count": 4,
   "metadata": {},
   "outputs": [],
   "source": [
    "# draw each face separately\n",
    "def draw_faces(filename, result_list):\n",
    "    \n",
    "    # load the image\n",
    "    data = pyplot.imread(filename)\n",
    "    \n",
    "    # plot each face as a subplot\n",
    "    for i in range(len(result_list)):\n",
    "        \n",
    "        # get coordinates\n",
    "        x1, y1, width, height = result_list[i]['box']\n",
    "        x2, y2 = x1 + width, y1 + height\n",
    "        \n",
    "        # define subplot\n",
    "        pyplot.subplot(1, len(result_list), i+1)\n",
    "        pyplot.axis('off')\n",
    "        \n",
    "        # plot face\n",
    "        pyplot.imshow(data[y1:y2, x1:x2])\n",
    "        \n",
    "        # check if directory is present or not - if not then creates one\n",
    "        filename = 'img'+str(i)+'.jpg'\n",
    "        path = os.getcwd()+'\\\\test_faces\\\\'\n",
    "        check = os.path.isdir(path)\n",
    "        if (not check):\n",
    "            os.mkdir(test_faces)\n",
    "        \n",
    "        #writes the detected faces in specified directory\n",
    "        cv2.imwrite(path+filename, data[y1:y2, x1:x2])\n",
    "        \n",
    "    # show the plot\n",
    "    pyplot.show()"
   ]
  },
  {
   "cell_type": "code",
   "execution_count": 5,
   "metadata": {},
   "outputs": [
    {
     "data": {
      "image/png": "[encoded data removed]",
      "text/plain": [
       "<Figure size 432x288 with 6 Axes>"
      ]
     },
     "metadata": {
      "needs_background": "light"
     },
     "output_type": "display_data"
    }
   ],
   "source": [
    "filename = 'test2.jpg'\n",
    "# load image from file\n",
    "pixels = pyplot.imread(filename)\n",
    "# create the detector, using default weights\n",
    "detector = MTCNN()\n",
    "# detect faces in the image\n",
    "faces = detector.detect_faces(pixels)\n",
    "# display faces on the original image\n",
    "draw_faces(filename, faces)"
   ]
  },
  {
   "cell_type": "code",
   "execution_count": null,
   "metadata": {},
   "outputs": [],
   "source": []
  }
 ],
 "metadata": {
  "kernelspec": {
   "display_name": "Python 3",
   "language": "python",
   "name": "python3"
  },
  "language_info": {
   "codemirror_mode": {
    "name": "ipython",
    "version": 3
   },
   "file_extension": ".py",
   "mimetype": "text/x-python",
   "name": "python",
   "nbconvert_exporter": "python",
   "pygments_lexer": "ipython3",
   "version": "3.7.1"
  }
 },
 "nbformat": 4,
 "nbformat_minor": 4
}
