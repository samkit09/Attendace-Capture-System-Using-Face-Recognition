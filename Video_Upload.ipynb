{
 "cells": [
  {
   "cell_type": "code",
   "execution_count": 1,
   "metadata": {},
   "outputs": [],
   "source": [
    "import os\n",
    "from os import listdir\n",
    "from os.path import isdir\n",
    "from flask import Flask, render_template, request\n",
    "from werkzeug.wrappers import Request, Response"
   ]
  },
  {
   "cell_type": "code",
   "execution_count": 3,
   "metadata": {},
   "outputs": [],
   "source": [
    "PATH = os.getcwd()+'\\\\input_videos\\\\'\n",
    "if (not os.path.isdir(PATH)):\n",
    "    os.mkdir(PATH)"
   ]
  },
  {
   "cell_type": "code",
   "execution_count": 4,
   "metadata": {},
   "outputs": [],
   "source": [
    "app = Flask(__name__)\n",
    "@app.route('/')\n",
    "def main():\n",
    "    return render_template('video_submit.html')\n",
    "\n",
    "@app.route('/submit', methods=['POST'])\n",
    "def input_video():\n",
    "    temp = request.files['video']\n",
    "    temp1 = PATH + temp.filename\n",
    "    temp.save(temp1)    \n",
    "    return render_template('video_submit.html', data = 1)\n"
   ]
  },
  {
   "cell_type": "code",
   "execution_count": null,
   "metadata": {},
   "outputs": [
    {
     "name": "stderr",
     "output_type": "stream",
     "text": [
      " * Running on http://localhost:9000/ (Press CTRL+C to quit)\n",
      "127.0.0.1 - - [27/May/2021 21:37:12] \"GET / HTTP/1.1\" 200 -\n",
      "127.0.0.1 - - [27/May/2021 21:37:21] \"POST /submit HTTP/1.1\" 200 -\n",
      "127.0.0.1 - - [27/May/2021 22:15:41] \"GET / HTTP/1.1\" 200 -\n",
      "127.0.0.1 - - [27/May/2021 22:16:20] \"POST /submit HTTP/1.1\" 200 -\n",
      "127.0.0.1 - - [27/May/2021 22:24:12] \"GET / HTTP/1.1\" 200 -\n"
     ]
    }
   ],
   "source": [
    "if __name__ == '__main__':\n",
    "    from werkzeug.serving import run_simple\n",
    "    run_simple('localhost', 9000, app)"
   ]
  },
  {
   "cell_type": "code",
   "execution_count": null,
   "metadata": {},
   "outputs": [],
   "source": []
  }
 ],
 "metadata": {
  "kernelspec": {
   "display_name": "Python 3",
   "language": "python",
   "name": "python3"
  },
  "language_info": {
   "codemirror_mode": {
    "name": "ipython",
    "version": 3
   },
   "file_extension": ".py",
   "mimetype": "text/x-python",
   "name": "python",
   "nbconvert_exporter": "python",
   "pygments_lexer": "ipython3",
   "version": "3.7.1"
  },
  "metadata": {
   "interpreter": {
    "hash": "1ab2901801ed8a5c9a9b461f2176624e36f6136f872c52e843a479d30968703b"
   }
  }
 },
 "nbformat": 4,
 "nbformat_minor": 4
}
