{
 "cells": [
  {
   "cell_type": "code",
   "execution_count": 1,
   "metadata": {},
   "outputs": [],
   "source": [
    "# import sys\n",
    "# !{sys.executable} --version"
   ]
  },
  {
   "cell_type": "code",
   "execution_count": 2,
   "metadata": {},
   "outputs": [],
   "source": [
    "# !pip install imutils\n",
    "# !pip install cython\n",
    "# !pip install mkl\n",
    "# !pip install pypiwin32\n",
    "# !pip install wget\n",
    "# !pip install CMake"
   ]
  },
  {
   "cell_type": "code",
   "execution_count": 3,
   "metadata": {},
   "outputs": [],
   "source": [
    "# install as whl ->\n",
    "#!pip install https://pypi.python.org/packages/da/06/bd3e241c4eb0a662914b3b4875fc52dd176a9db0d4a2c915ac2ad8800e9e/dlib-19.8.1-cp36-cp36m-win_amd64.whl#md5=b7330a5b2d46420343fbed5df69e6a3f"
   ]
  },
  {
   "cell_type": "code",
   "execution_count": 4,
   "metadata": {},
   "outputs": [],
   "source": [
    "# download dlib zip file manually > extract it > install using following command\n",
    "# python /[path_to_dlibfolder]/setup.py install"
   ]
  },
  {
   "cell_type": "code",
   "execution_count": 5,
   "metadata": {},
   "outputs": [],
   "source": [
    "import cv2\n",
    "import numpy as numpy\n",
    "import os, time\n",
    "import dlib\n",
    "from imutils import face_utils\n",
    "from imutils.face_utils import FaceAligner"
   ]
  },
  {
   "cell_type": "code",
   "execution_count": 6,
   "metadata": {},
   "outputs": [],
   "source": [
    "detector=dlib.get_frontal_face_detector()\n",
    "shape_predictor=dlib.shape_predictor(\"shape_predictor_68_face_landmarks.dat\")\n",
    "face_aligner=FaceAligner(shape_predictor, desiredFaceWidth=200)\n",
    "FACE_DIR=\"incept/\""
   ]
  },
  {
   "cell_type": "code",
   "execution_count": 7,
   "metadata": {},
   "outputs": [],
   "source": [
    "def create_folder(folder_name):\n",
    "    if not os.path.exists(folder_name):\n",
    "        os.mkdir(folder_name)"
   ]
  },
  {
   "cell_type": "code",
   "execution_count": 8,
   "metadata": {},
   "outputs": [
    {
     "name": "stdout",
     "output_type": "stream",
     "text": [
      "Enter full name for directory: vroom\n",
      "Starting image no. :1\n"
     ]
    }
   ],
   "source": [
    "def main():\n",
    "    create_folder(FACE_DIR)\n",
    "    while True:\n",
    "        face_id = input(\"Enter full name for directory: \")\n",
    "        try:\n",
    "            face_folder=FACE_DIR+face_id+\"/\"\n",
    "            create_folder(face_folder)\n",
    "            break\n",
    "        except:\n",
    "            print(\"invalid input id must be string\")\n",
    "            continue\n",
    "    while True:\n",
    "        init_img_no=input(\"Starting image no. :\")\n",
    "        try:\n",
    "            init_img_no=int(init_img_no)\n",
    "            break\n",
    "        except:\n",
    "            print(\"Starting img no should be integer...\")\n",
    "            continue\n",
    "    img_no=init_img_no\n",
    "    cap=cv2.VideoCapture(0)\n",
    "    total_imgs=1\n",
    "    while True:\n",
    "        ret, img=cap.read()\n",
    "        img_gray=cv2.cvtColor(img, cv2.COLOR_BGR2GRAY)\n",
    "        faces=detector(img_gray)\n",
    "        if len(faces)==1:\n",
    "            face=faces[0]\n",
    "            (x, y, w, h)=face_utils.rect_to_bb(face)\n",
    "            face_img=img_gray[y-50:y + h+100, x-50:x + w+100]\n",
    "            face_aligned=face_aligner.align(img, img_gray, face)\n",
    "            face_img=face_aligned\n",
    "            img_path=face_folder+str(img_no)+\".jpg\"\n",
    "            cv2.imwrite(img_path, face_img)\n",
    "#             cv2.rectangle(img, (x,y), (x+w, y+h), (255,255,0),3)\n",
    "#             cv2.imshow(\"aligned\", face_img)\n",
    "            img_no +=1\n",
    "#         cv2.imshow(\"Saving\", img)\n",
    "        cv2.waitKey(1)\n",
    "        if img_no==init_img_no+total_imgs:\n",
    "            break\n",
    "    cap.release()\n",
    "main()"
   ]
  },
  {
   "cell_type": "code",
   "execution_count": null,
   "metadata": {},
   "outputs": [],
   "source": []
  },
  {
   "cell_type": "code",
   "execution_count": null,
   "metadata": {},
   "outputs": [],
   "source": []
  }
 ],
 "metadata": {
  "kernelspec": {
   "display_name": "Python 3",
   "language": "python",
   "name": "python3"
  },
  "language_info": {
   "codemirror_mode": {
    "name": "ipython",
    "version": 3
   },
   "file_extension": ".py",
   "mimetype": "text/x-python",
   "name": "python",
   "nbconvert_exporter": "python",
   "pygments_lexer": "ipython3",
   "version": "3.7.1"
  }
 },
 "nbformat": 4,
 "nbformat_minor": 4
}
