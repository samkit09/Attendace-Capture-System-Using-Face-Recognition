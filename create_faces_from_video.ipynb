{
 "cells": [
  {
   "cell_type": "code",
   "execution_count": 1,
   "metadata": {},
   "outputs": [],
   "source": [
    "import cv2\n",
    "import os\n",
    "import time\n",
    "import random\n",
    "from os import listdir\n",
    "from os.path import isdir"
   ]
  },
  {
   "cell_type": "code",
   "execution_count": 2,
   "metadata": {},
   "outputs": [],
   "source": [
    "# Opens the Video file\n",
    "# PATH = os.getcwd()\n",
    "# vid_name = input('Enter media file name with extension : ')\n",
    "# user_name = input('Enter name for file : ')\n",
    "# cap= cv2.VideoCapture(os.path.join(PATH,vid_name))\n",
    "# i=0\n",
    "# while(cap.isOpened() and i<20):\n",
    "#     ret, frame = cap.read()\n",
    "#     if ret == False:\n",
    "#         break\n",
    "#     cv2.imwrite(PATH+'/data/'+user_name+str(i)+'.jpg',frame)\n",
    "#     time.sleep(0.5)\n",
    "#     i+=1\n",
    "\n",
    "# cap.release()\n",
    "# cv2.destroyAllWindows()"
   ]
  },
  {
   "cell_type": "code",
   "execution_count": 3,
   "metadata": {},
   "outputs": [],
   "source": [
    "# load images and extract faces for all images in a directory\n",
    "def load_videos(directory):\n",
    "    videos,vid_names = list(),list()\n",
    "    # enumerate files\n",
    "    for filename in listdir(directory):\n",
    "        # path\n",
    "        temp = filename.split('.')\n",
    "        vid_names.append(temp[0])\n",
    "        path = directory + filename\n",
    "        # store\n",
    "        videos.append(path)\n",
    "    return videos,vid_names"
   ]
  },
  {
   "cell_type": "code",
   "execution_count": 4,
   "metadata": {},
   "outputs": [],
   "source": [
    "PATH = os.getcwd()+'\\\\input_videos\\\\'\n",
    "if (not os.path.isdir(PATH)):\n",
    "    os.mkdir(PATH)\n",
    "videos,vid_names = load_videos(PATH)\n",
    "# print(videos)\n",
    "# print(vid_names)\n",
    "# vid_name = input('Enter media file name with extension : ')\n",
    "# user_name = input('Enter name for file : ')"
   ]
  },
  {
   "cell_type": "code",
   "execution_count": 5,
   "metadata": {},
   "outputs": [],
   "source": [
    "for user_name in vid_names:\n",
    "    test_faces_path1 = os.getcwd()+'\\\\dataset\\\\train\\\\'+user_name\n",
    "    test_faces_path2 = os.getcwd()+'\\\\dataset\\\\val\\\\'+user_name\n",
    "    check = os.path.isdir(test_faces_path1)\n",
    "    if (not check):\n",
    "        os.mkdir(test_faces_path1)\n",
    "    check = os.path.isdir(test_faces_path2)\n",
    "    if (not check):\n",
    "        os.mkdir(test_faces_path2)"
   ]
  },
  {
   "cell_type": "code",
   "execution_count": 6,
   "metadata": {},
   "outputs": [],
   "source": [
    "# vallist = []\n",
    "# for i in range(0,5):\n",
    "#     n = random.randint(1,20)\n",
    "#     vallist.append(n)\n",
    "# print(vallist)\n",
    "# vallist = random.sample(range(0, 20), 5)\n",
    "# print(vallist)"
   ]
  },
  {
   "cell_type": "code",
   "execution_count": 11,
   "metadata": {},
   "outputs": [],
   "source": [
    "def getFrame(sec,i,j,path1,path2): \n",
    "    vallist = random.sample(range(0, 20), 5)\n",
    "    \n",
    "    vidcap = cv2.VideoCapture(videos[j])\n",
    "    vidcap.set(cv2.CAP_PROP_POS_MSEC,sec*1000) \n",
    "    hasFrames,image = vidcap.read() \n",
    "    if hasFrames:\n",
    "        if i in vallist:\n",
    "            cv2.imwrite(path2+'\\\\'+user_name+str(i)+\".jpg\", image) \n",
    "        else:\n",
    "            cv2.imwrite(path1+'\\\\'+user_name+str(i)+\".jpg\", image) \n",
    "    return hasFrames"
   ]
  },
  {
   "cell_type": "code",
   "execution_count": 10,
   "metadata": {},
   "outputs": [],
   "source": [
    "for j in range(len(vid_names)):\n",
    "    path1 = os.getcwd()+'\\\\dataset\\\\train\\\\'+vid_names[j]\n",
    "    path2 = os.getcwd()+'\\\\dataset\\\\val\\\\'+vid_names[j]\n",
    "    sec = 0 \n",
    "    i = 0\n",
    "    frameRate = 0.5 #it will capture image in each 0.5 second \n",
    "    success = getFrame(sec,i,j,path1,path2) \n",
    "    while (success and i<20): \n",
    "        sec = sec + frameRate \n",
    "        sec = round(sec, 2) \n",
    "        success = getFrame(sec,i,j,path1,path2)\n",
    "        i+=1"
   ]
  },
  {
   "cell_type": "code",
   "execution_count": null,
   "metadata": {},
   "outputs": [],
   "source": []
  }
 ],
 "metadata": {
  "kernelspec": {
   "display_name": "Python 3",
   "language": "python",
   "name": "python3"
  },
  "language_info": {
   "codemirror_mode": {
    "name": "ipython",
    "version": 3
   },
   "file_extension": ".py",
   "mimetype": "text/x-python",
   "name": "python",
   "nbconvert_exporter": "python",
   "pygments_lexer": "ipython3",
   "version": "3.7.1"
  }
 },
 "nbformat": 4,
 "nbformat_minor": 4
}
