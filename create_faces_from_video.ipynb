{
 "cells": [
  {
   "cell_type": "code",
   "execution_count": 1,
   "metadata": {},
   "outputs": [
    {
     "name": "stderr",
     "output_type": "stream",
     "text": [
      "Using TensorFlow backend.\n"
     ]
    }
   ],
   "source": [
    "import cv2\n",
    "import os\n",
    "import time\n",
    "import numpy as np\n",
    "import random\n",
    "from os import listdir\n",
    "from os.path import isdir\n",
    "import matplotlib.pyplot as plt\n",
    "from mtcnn.mtcnn import MTCNN\n",
    "detector = MTCNN()"
   ]
  },
  {
   "cell_type": "code",
   "execution_count": 2,
   "metadata": {},
   "outputs": [],
   "source": [
    "# load images and extract faces for all images in a directory\n",
    "def load_videos(directory):\n",
    "    videos,vid_names = list(),list()\n",
    "    # enumerate files\n",
    "    for filename in listdir(directory):\n",
    "        # path\n",
    "        temp = filename.split('.')\n",
    "        vid_names.append(temp[0])\n",
    "        path = directory + filename\n",
    "        # store\n",
    "        videos.append(path)\n",
    "    return videos,vid_names"
   ]
  },
  {
   "cell_type": "code",
   "execution_count": 3,
   "metadata": {},
   "outputs": [],
   "source": [
    "PATH = os.getcwd()+'\\\\input_videos\\\\'\n",
    "if (not os.path.isdir(PATH)):\n",
    "    os.mkdir(PATH)"
   ]
  },
  {
   "cell_type": "code",
   "execution_count": 4,
   "metadata": {},
   "outputs": [],
   "source": [
    "videos,vid_nms = load_videos(PATH)\n",
    "# print(videos)\n",
    "# print(vid_names)\n",
    "# vid_name = input('Enter media file name with extension : ')\n",
    "# user_name = input('Enter name for file : ')"
   ]
  },
  {
   "cell_type": "code",
   "execution_count": 5,
   "metadata": {},
   "outputs": [
    {
     "name": "stdout",
     "output_type": "stream",
     "text": [
      "['Aditya_Shankar_B247', 'Ritesh_Kulkarni_B270', 'Shashwat_Tare_B250']\n"
     ]
    }
   ],
   "source": [
    "# nms = list()\n",
    "# vid_names = list()\n",
    "# for i in vid_nms:\n",
    "#     temp = list(i.split('_'))\n",
    "#     temp1 = temp[0]+temp[1]\n",
    "#     nms.append(temp1)\n",
    "#     vid_names.append(temp[0]+' '+temp[1]+' - '+temp[2])\n",
    "#     print(vid_names)\n",
    "vid_names = vid_nms\n",
    "# np.savetxt(\"names.txt\", np.array(nms), fmt=\"%s\")\n",
    "# np.savetxt(\"vid_names.txt\", np.array(vid_names), fmt=\"%s\")"
   ]
  },
  {
   "cell_type": "code",
   "execution_count": 6,
   "metadata": {},
   "outputs": [],
   "source": [
    "for user_name in vid_names:\n",
    "    test_faces_path1 = os.getcwd()+'\\\\dataset\\\\train\\\\'+user_name\n",
    "    test_faces_path2 = os.getcwd()+'\\\\dataset\\\\val\\\\'+user_name\n",
    "    check = os.path.isdir(test_faces_path1)\n",
    "    if (not check):\n",
    "        os.mkdir(test_faces_path1)\n",
    "    check = os.path.isdir(test_faces_path2)\n",
    "    if (not check):\n",
    "        os.mkdir(test_faces_path2)"
   ]
  },
  {
   "cell_type": "code",
   "execution_count": 7,
   "metadata": {},
   "outputs": [],
   "source": [
    "# draw each face separately\n",
    "def draw_box(data, faces, path ,username ,z):\n",
    "    for i in range(len(faces)):\n",
    "        # get coordinates\n",
    "        x1, y1, width, height = faces[i]['box']\n",
    "        x2, y2 = x1 + width, y1 + height\n",
    "        \n",
    "        # define subplot\n",
    "        plt.subplot(1, len(faces), i+1)\n",
    "        plt.axis('off')\n",
    "        \n",
    "        # check if directory is present or not - if not then creates one\n",
    "        filename = user_name+str(z)+'.jpg'\n",
    "#         image = data[y1:y2, x1:x2]\n",
    "#         image = image.resize((160, 160))\n",
    "        #writes the detected faces in specified directory\n",
    "        cv2.imwrite( path+'\\\\'+filename , data[y1:y2, x1:x2])\n",
    "#         print('Saved',filename)"
   ]
  },
  {
   "cell_type": "code",
   "execution_count": 8,
   "metadata": {},
   "outputs": [],
   "source": [
    "def getFrame(sec,i,j,path1,path2,user_name): \n",
    "    vallist = random.sample(range(0, 20), 5)\n",
    "    \n",
    "    vidcap = cv2.VideoCapture(videos[j])\n",
    "    vidcap.set(cv2.CAP_PROP_POS_MSEC,sec*1000) \n",
    "    hasFrames,image = vidcap.read() \n",
    "    \n",
    "    pixels = image\n",
    "    # detect faces in the image\n",
    "    faces = detector.detect_faces(pixels)\n",
    "    \n",
    "    if hasFrames:\n",
    "#         print('detecting face from image => ',i)\n",
    "        if i in vallist:\n",
    "            draw_box(image ,faces ,path2 ,user_name,i)\n",
    "#             cv2.imwrite(path2+'\\\\'+user_name+str(i)+\".jpg\", image) \n",
    "        draw_box(image ,faces ,path1 ,user_name,i)\n",
    "#             cv2.imwrite(path1+'\\\\'+user_name+str(i)+\".jpg\", image)\n",
    "    else:\n",
    "        pass\n",
    "            \n",
    "    return hasFrames"
   ]
  },
  {
   "cell_type": "code",
   "execution_count": 11,
   "metadata": {},
   "outputs": [
    {
     "name": "stdout",
     "output_type": "stream",
     "text": [
      "Aditya_Shankar_B247\n",
      "detecting face from image =>  0\n",
      "Saved Aditya_Shankar_B2470.jpg\n",
      "detecting face from image =>  0\n",
      "Saved Aditya_Shankar_B2470.jpg\n",
      "Saved Aditya_Shankar_B2470.jpg\n"
     ]
    },
    {
     "name": "stderr",
     "output_type": "stream",
     "text": [
      "C:\\Users\\samkit\\Anaconda3\\envs\\tensorflow\\lib\\site-packages\\ipykernel_launcher.py:17: MatplotlibDeprecationWarning: Adding an axes using the same arguments as a previous axes currently reuses the earlier instance.  In a future version, a new instance will always be created and returned.  Meanwhile, this warning can be suppressed, and the future behavior ensured, by passing a unique label to each axes instance.\n"
     ]
    },
    {
     "name": "stdout",
     "output_type": "stream",
     "text": [
      "detecting face from image =>  1\n",
      "Saved Aditya_Shankar_B2471.jpg\n",
      "Saved Aditya_Shankar_B2471.jpg\n",
      "detecting face from image =>  2\n",
      "Saved Aditya_Shankar_B2472.jpg\n",
      "detecting face from image =>  3\n",
      "Saved Aditya_Shankar_B2473.jpg\n",
      "detecting face from image =>  4\n",
      "Saved Aditya_Shankar_B2474.jpg\n",
      "detecting face from image =>  5\n",
      "detecting face from image =>  6\n",
      "detecting face from image =>  7\n",
      "Saved Aditya_Shankar_B2477.jpg\n",
      "detecting face from image =>  8\n",
      "Saved Aditya_Shankar_B2478.jpg\n",
      "Saved Aditya_Shankar_B2478.jpg\n",
      "detecting face from image =>  9\n",
      "Saved Aditya_Shankar_B2479.jpg\n",
      "detecting face from image =>  10\n",
      "Saved Aditya_Shankar_B24710.jpg\n",
      "detecting face from image =>  11\n",
      "Saved Aditya_Shankar_B24711.jpg\n",
      "detecting face from image =>  12\n",
      "Saved Aditya_Shankar_B24712.jpg\n",
      "Saved Aditya_Shankar_B24712.jpg\n",
      "detecting face from image =>  13\n",
      "detecting face from image =>  14\n",
      "detecting face from image =>  15\n",
      "detecting face from image =>  16\n",
      "Saved Aditya_Shankar_B24716.jpg\n",
      "detecting face from image =>  17\n",
      "Saved Aditya_Shankar_B24717.jpg\n",
      "detecting face from image =>  18\n",
      "Saved Aditya_Shankar_B24718.jpg\n",
      "detecting face from image =>  19\n",
      "Ritesh_Kulkarni_B270\n",
      "detecting face from image =>  0\n",
      "detecting face from image =>  0\n",
      "detecting face from image =>  1\n",
      "detecting face from image =>  2\n",
      "detecting face from image =>  3\n",
      "detecting face from image =>  4\n",
      "detecting face from image =>  5\n",
      "detecting face from image =>  6\n",
      "detecting face from image =>  7\n",
      "detecting face from image =>  8\n",
      "detecting face from image =>  9\n",
      "detecting face from image =>  10\n",
      "detecting face from image =>  11\n",
      "detecting face from image =>  12\n",
      "detecting face from image =>  13\n",
      "detecting face from image =>  14\n",
      "detecting face from image =>  15\n",
      "detecting face from image =>  16\n",
      "detecting face from image =>  17\n",
      "detecting face from image =>  18\n",
      "detecting face from image =>  19\n",
      "Shashwat_Tare_B250\n",
      "detecting face from image =>  0\n",
      "Saved Shashwat_Tare_B2500.jpg\n",
      "Saved Shashwat_Tare_B2500.jpg\n",
      "detecting face from image =>  0\n",
      "Saved Shashwat_Tare_B2500.jpg\n",
      "detecting face from image =>  1\n",
      "Saved Shashwat_Tare_B2501.jpg\n",
      "Saved Shashwat_Tare_B2501.jpg\n",
      "detecting face from image =>  2\n",
      "Saved Shashwat_Tare_B2502.jpg\n",
      "detecting face from image =>  3\n",
      "Saved Shashwat_Tare_B2503.jpg\n",
      "detecting face from image =>  4\n",
      "Saved Shashwat_Tare_B2504.jpg\n",
      "detecting face from image =>  5\n",
      "Saved Shashwat_Tare_B2505.jpg\n",
      "detecting face from image =>  6\n",
      "Saved Shashwat_Tare_B2506.jpg\n",
      "detecting face from image =>  7\n",
      "Saved Shashwat_Tare_B2507.jpg\n",
      "detecting face from image =>  8\n",
      "Saved Shashwat_Tare_B2508.jpg\n",
      "Saved Shashwat_Tare_B2508.jpg\n",
      "detecting face from image =>  9\n",
      "Saved Shashwat_Tare_B2509.jpg\n",
      "Saved Shashwat_Tare_B2509.jpg\n",
      "detecting face from image =>  10\n",
      "Saved Shashwat_Tare_B25010.jpg\n",
      "detecting face from image =>  11\n",
      "Saved Shashwat_Tare_B25011.jpg\n",
      "detecting face from image =>  12\n",
      "Saved Shashwat_Tare_B25012.jpg\n",
      "detecting face from image =>  13\n",
      "Saved Shashwat_Tare_B25013.jpg\n",
      "detecting face from image =>  14\n",
      "Saved Shashwat_Tare_B25014.jpg\n",
      "detecting face from image =>  15\n",
      "Saved Shashwat_Tare_B25015.jpg\n",
      "detecting face from image =>  16\n",
      "Saved Shashwat_Tare_B25016.jpg\n",
      "detecting face from image =>  17\n",
      "Saved Shashwat_Tare_B25017.jpg\n",
      "detecting face from image =>  18\n",
      "Saved Shashwat_Tare_B25018.jpg\n",
      "Saved Shashwat_Tare_B25018.jpg\n",
      "detecting face from image =>  19\n",
      "Saved Shashwat_Tare_B25019.jpg\n",
      "Saved Shashwat_Tare_B25019.jpg\n"
     ]
    },
    {
     "data": {
      "image/png": "[encoded data removed]",
      "text/plain": [
       "<Figure size 432x288 with 2 Axes>"
      ]
     },
     "metadata": {
      "needs_background": "light"
     },
     "output_type": "display_data"
    }
   ],
   "source": [
    "for j in range(len(vid_names)):\n",
    "    print(vid_names[j])\n",
    "    path1 = os.getcwd()+'\\\\dataset\\\\train\\\\'+vid_names[j]\n",
    "    path2 = os.getcwd()+'\\\\dataset\\\\val\\\\'+vid_names[j]\n",
    "    sec = 0 \n",
    "    i = 0\n",
    "    frameRate = 0.5 #it will capture image in each 0.5 second \n",
    "    user_name = vid_names[j]\n",
    "    success = getFrame(sec,i,j,path1,path2,user_name) \n",
    "    while (success and i<20): \n",
    "        sec = sec + frameRate \n",
    "        sec = round(sec, 2) \n",
    "        success = getFrame(sec,i,j,path1,path2,user_name)\n",
    "#         print(success,'--------',i,'------',sec)\n",
    "        i+=1"
   ]
  }
 ],
 "metadata": {
  "kernelspec": {
   "display_name": "Python 3",
   "language": "python",
   "name": "python3"
  },
  "language_info": {
   "codemirror_mode": {
    "name": "ipython",
    "version": 3
   },
   "file_extension": ".py",
   "mimetype": "text/x-python",
   "name": "python",
   "nbconvert_exporter": "python",
   "pygments_lexer": "ipython3",
   "version": "3.7.1"
  }
 },
 "nbformat": 4,
 "nbformat_minor": 4
}
