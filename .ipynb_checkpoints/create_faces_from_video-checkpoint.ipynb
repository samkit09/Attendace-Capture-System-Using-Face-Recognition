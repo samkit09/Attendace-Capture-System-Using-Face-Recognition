{
 "cells": [
  {
   "cell_type": "code",
   "execution_count": 1,
   "metadata": {},
   "outputs": [
    {
     "name": "stderr",
     "output_type": "stream",
     "text": [
      "Using TensorFlow backend.\n"
     ]
    }
   ],
   "source": [
    "import cv2\n",
    "import os\n",
    "import time\n",
    "import numpy as np\n",
    "import random\n",
    "from os import listdir\n",
    "from os.path import isdir\n",
    "import matplotlib.pyplot as plt\n",
    "from mtcnn.mtcnn import MTCNN\n",
    "detector = MTCNN()"
   ]
  },
  {
   "cell_type": "code",
   "execution_count": 2,
   "metadata": {},
   "outputs": [],
   "source": [
    "# load images and extract faces for all images in a directory\n",
    "def load_videos(directory):\n",
    "    videos,vid_names = list(),list()\n",
    "    # enumerate files\n",
    "    for filename in listdir(directory):\n",
    "        # path\n",
    "        temp = filename.split('.')\n",
    "        vid_names.append(temp[0])\n",
    "        path = directory + filename\n",
    "        # store\n",
    "        videos.append(path)\n",
    "    return videos,vid_names"
   ]
  },
  {
   "cell_type": "code",
   "execution_count": 3,
   "metadata": {},
   "outputs": [],
   "source": [
    "PATH = os.getcwd()+'\\\\input_videos\\\\'\n",
    "if (not os.path.isdir(PATH)):\n",
    "    os.mkdir(PATH)"
   ]
  },
  {
   "cell_type": "code",
   "execution_count": 4,
   "metadata": {},
   "outputs": [],
   "source": [
    "videos,vid_nms = load_videos(PATH)\n",
    "# print(videos)\n",
    "# print(vid_names)\n",
    "# vid_name = input('Enter media file name with extension : ')\n",
    "# user_name = input('Enter name for file : ')"
   ]
  },
  {
   "cell_type": "code",
   "execution_count": 7,
   "metadata": {},
   "outputs": [
    {
     "name": "stdout",
     "output_type": "stream",
     "text": [
      "['Aditya Shankar : B247']\n",
      "['Aditya Shankar : B247', 'Hussain Chaiwala : B206']\n",
      "['Aditya Shankar : B247', 'Hussain Chaiwala : B206', 'Ritesh Kulkarni : B270']\n",
      "['Aditya Shankar : B247', 'Hussain Chaiwala : B206', 'Ritesh Kulkarni : B270', 'Shashwat Tare : B250']\n"
     ]
    }
   ],
   "source": [
    "nms = list()\n",
    "vid_names = list()\n",
    "for i in vid_nms:\n",
    "    temp = list(i.split('_'))\n",
    "    temp1 = temp[0]+temp[1]\n",
    "    nms.append(temp1)\n",
    "    vid_names.append(temp[0]+' '+temp[1]+' : '+temp[2])\n",
    "    print(vid_names)\n",
    "\n",
    "np.savetxt(\"names.txt\", np.array(nms), fmt=\"%s\")\n",
    "np.savetxt(\"vid_names.txt\", np.array(vid_names), fmt=\"%s\")"
   ]
  },
  {
   "cell_type": "code",
   "execution_count": 6,
   "metadata": {},
   "outputs": [
    {
     "ename": "NotADirectoryError",
     "evalue": "[WinError 267] The directory name is invalid: 'C:\\\\Users\\\\samkit\\\\Tensorflow_Testing\\\\IBM_Project\\\\dataset\\\\train\\\\Aditya Shankar : B247'",
     "output_type": "error",
     "traceback": [
      "\u001b[1;31m---------------------------------------------------------------------------\u001b[0m",
      "\u001b[1;31mNotADirectoryError\u001b[0m                        Traceback (most recent call last)",
      "\u001b[1;32m<ipython-input-6-856b01c63ebf>\u001b[0m in \u001b[0;36m<module>\u001b[1;34m\u001b[0m\n\u001b[0;32m      4\u001b[0m     \u001b[0mcheck\u001b[0m \u001b[1;33m=\u001b[0m \u001b[0mos\u001b[0m\u001b[1;33m.\u001b[0m\u001b[0mpath\u001b[0m\u001b[1;33m.\u001b[0m\u001b[0misdir\u001b[0m\u001b[1;33m(\u001b[0m\u001b[0mtest_faces_path1\u001b[0m\u001b[1;33m)\u001b[0m\u001b[1;33m\u001b[0m\u001b[1;33m\u001b[0m\u001b[0m\n\u001b[0;32m      5\u001b[0m     \u001b[1;32mif\u001b[0m \u001b[1;33m(\u001b[0m\u001b[1;32mnot\u001b[0m \u001b[0mcheck\u001b[0m\u001b[1;33m)\u001b[0m\u001b[1;33m:\u001b[0m\u001b[1;33m\u001b[0m\u001b[1;33m\u001b[0m\u001b[0m\n\u001b[1;32m----> 6\u001b[1;33m         \u001b[0mos\u001b[0m\u001b[1;33m.\u001b[0m\u001b[0mmkdir\u001b[0m\u001b[1;33m(\u001b[0m\u001b[0mtest_faces_path1\u001b[0m\u001b[1;33m)\u001b[0m\u001b[1;33m\u001b[0m\u001b[1;33m\u001b[0m\u001b[0m\n\u001b[0m\u001b[0;32m      7\u001b[0m     \u001b[0mcheck\u001b[0m \u001b[1;33m=\u001b[0m \u001b[0mos\u001b[0m\u001b[1;33m.\u001b[0m\u001b[0mpath\u001b[0m\u001b[1;33m.\u001b[0m\u001b[0misdir\u001b[0m\u001b[1;33m(\u001b[0m\u001b[0mtest_faces_path2\u001b[0m\u001b[1;33m)\u001b[0m\u001b[1;33m\u001b[0m\u001b[1;33m\u001b[0m\u001b[0m\n\u001b[0;32m      8\u001b[0m     \u001b[1;32mif\u001b[0m \u001b[1;33m(\u001b[0m\u001b[1;32mnot\u001b[0m \u001b[0mcheck\u001b[0m\u001b[1;33m)\u001b[0m\u001b[1;33m:\u001b[0m\u001b[1;33m\u001b[0m\u001b[1;33m\u001b[0m\u001b[0m\n",
      "\u001b[1;31mNotADirectoryError\u001b[0m: [WinError 267] The directory name is invalid: 'C:\\\\Users\\\\samkit\\\\Tensorflow_Testing\\\\IBM_Project\\\\dataset\\\\train\\\\Aditya Shankar : B247'"
     ]
    }
   ],
   "source": [
    "for user_name in vid_names:\n",
    "    test_faces_path1 = os.getcwd()+'\\\\dataset\\\\train\\\\'+user_name\n",
    "    test_faces_path2 = os.getcwd()+'\\\\dataset\\\\val\\\\'+user_name\n",
    "    check = os.path.isdir(test_faces_path1)\n",
    "    if (not check):\n",
    "        os.mkdir(test_faces_path1)\n",
    "    check = os.path.isdir(test_faces_path2)\n",
    "    if (not check):\n",
    "        os.mkdir(test_faces_path2)"
   ]
  },
  {
   "cell_type": "code",
   "execution_count": 6,
   "metadata": {},
   "outputs": [],
   "source": [
    "# vallist = []\n",
    "# for i in range(0,5):\n",
    "#     n = random.randint(1,20)\n",
    "#     vallist.append(n)\n",
    "# print(vallist)\n",
    "# vallist = random.sample(range(0, 20), 5)\n",
    "# print(vallist)"
   ]
  },
  {
   "cell_type": "code",
   "execution_count": 7,
   "metadata": {},
   "outputs": [],
   "source": [
    "# pixels = plt.imread(path_img)\n",
    "# # detect faces in the image\n",
    "# faces = detector.detect_faces(pixels)"
   ]
  },
  {
   "cell_type": "code",
   "execution_count": 24,
   "metadata": {},
   "outputs": [],
   "source": [
    "# draw each face separately\n",
    "def draw_box(data, faces, path ,username ,z):\n",
    "    \n",
    "    # load the image\n",
    "#     data = plt.imread(file)\n",
    "    \n",
    "    # plot each face as a subplot\n",
    "#     i=0\n",
    "    for i in range(len(faces)):\n",
    "#     for i in range(1):\n",
    "        \n",
    "        # get coordinates\n",
    "        x1, y1, width, height = faces[i]['box']\n",
    "        x2, y2 = x1 + width, y1 + height\n",
    "        \n",
    "        # define subplot\n",
    "        plt.subplot(1, len(faces), i+1)\n",
    "        plt.axis('off')\n",
    "        \n",
    "        # plot face\n",
    "#         plt.imshow(data[y1:y2, x1:x2])\n",
    "        \n",
    "        # check if directory is present or not - if not then creates one\n",
    "        filename = user_name+str(z)+'.jpg'\n",
    "        \n",
    "#         image = data[y1:y2, x1:x2]\n",
    "#         image = image.resize((160, 160))\n",
    "        #writes the detected faces in specified directory\n",
    "        cv2.imwrite( path+'\\\\'+filename , data[y1:y2, x1:x2])"
   ]
  },
  {
   "cell_type": "code",
   "execution_count": 25,
   "metadata": {},
   "outputs": [],
   "source": [
    "def getFrame(sec,i,j,path1,path2,user_name): \n",
    "    vallist = random.sample(range(0, 20), 5)\n",
    "    \n",
    "    vidcap = cv2.VideoCapture(videos[j])\n",
    "    vidcap.set(cv2.CAP_PROP_POS_MSEC,sec*1000) \n",
    "    hasFrames,image = vidcap.read() \n",
    "#     print(image)\n",
    "    \n",
    "    pixels = image\n",
    "    # detect faces in the image\n",
    "    faces = detector.detect_faces(pixels)\n",
    "    \n",
    "    if hasFrames:\n",
    "        if i in vallist:\n",
    "            draw_box(image ,faces ,path2 ,user_name,i)\n",
    "#             cv2.imwrite(path2+'\\\\'+user_name+str(i)+\".jpg\", image) \n",
    "        draw_box(image ,faces ,path1 ,user_name,i)\n",
    "#             cv2.imwrite(path1+'\\\\'+user_name+str(i)+\".jpg\", image) \n",
    "            \n",
    "    return hasFrames"
   ]
  },
  {
   "cell_type": "code",
   "execution_count": 26,
   "metadata": {},
   "outputs": [
    {
     "name": "stderr",
     "output_type": "stream",
     "text": [
      "C:\\Users\\samkit\\Anaconda3\\envs\\tensorflow\\lib\\site-packages\\ipykernel_launcher.py:17: MatplotlibDeprecationWarning: Adding an axes using the same arguments as a previous axes currently reuses the earlier instance.  In a future version, a new instance will always be created and returned.  Meanwhile, this warning can be suppressed, and the future behavior ensured, by passing a unique label to each axes instance.\n"
     ]
    },
    {
     "data": {
      "image/png": "[encoded data removed]",
      "text/plain": [
       "<Figure size 432x288 with 1 Axes>"
      ]
     },
     "metadata": {
      "needs_background": "light"
     },
     "output_type": "display_data"
    }
   ],
   "source": [
    "for j in range(len(vid_names)):\n",
    "    path1 = os.getcwd()+'\\\\dataset\\\\train\\\\'+vid_names[j]\n",
    "    path2 = os.getcwd()+'\\\\dataset\\\\val\\\\'+vid_names[j]\n",
    "    sec = 0 \n",
    "    i = 0\n",
    "    frameRate = 0.5 #it will capture image in each 0.5 second \n",
    "    user_name = vid_names[j]\n",
    "    success = getFrame(sec,i,j,path1,path2,user_name) \n",
    "    while (success and i<30): \n",
    "        sec = sec + frameRate \n",
    "        sec = round(sec, 2) \n",
    "        success = getFrame(sec,i,j,path1,path2,user_name)\n",
    "        i+=1"
   ]
  },
  {
   "cell_type": "code",
   "execution_count": null,
   "metadata": {},
   "outputs": [],
   "source": []
  }
 ],
 "metadata": {
  "kernelspec": {
   "display_name": "Python 3",
   "language": "python",
   "name": "python3"
  },
  "language_info": {
   "codemirror_mode": {
    "name": "ipython",
    "version": 3
   },
   "file_extension": ".py",
   "mimetype": "text/x-python",
   "name": "python",
   "nbconvert_exporter": "python",
   "pygments_lexer": "ipython3",
   "version": "3.7.1"
  }
 },
 "nbformat": 4,
 "nbformat_minor": 4
}
